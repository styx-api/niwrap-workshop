{
 "cells": [
  {
   "cell_type": "markdown",
   "id": "ef6baf00-01e5-41b9-8e9d-4d0a29d5b64e",
   "metadata": {},
   "source": [
    "# Getting started\n",
    "\n",
    "The following code block will attempt install all of the necessary packages required for \n",
    "these exercises. We assume that any neuroimaging tools required are already installed or\n",
    "Docker or Singularity is avaialble for use."
   ]
  },
  {
   "cell_type": "code",
   "execution_count": null,
   "id": "79b50302-29f0-47e4-990c-0355d7501bc4",
   "metadata": {},
   "outputs": [],
   "source": [
    "!pip install -q \\\n",
    "  'nibabel' \\\n",
    "  'niwrap' \\\n",
    "  'nilearn[plotting]'"
   ]
  },
  {
   "cell_type": "markdown",
   "id": "cdc1368a-7ba5-4f19-b4aa-574dcd262c56",
   "metadata": {},
   "source": [
    "`Niwrap` has a number of a \"Runners\" to for executing neuroimaging tools - select the \n",
    "runner of choice to additional steps for setting up the runner!\n",
    "\n",
    "1. Local installations (**default** - nothing needs to be done)\n",
    "2. [DockerRunner](#Docker-Runner)\n",
    "3. [SingularityRunner](#Singularity-Runner)"
   ]
  },
  {
   "cell_type": "markdown",
   "id": "3bbec663-0eab-4b69-8954-c3cffe5072aa",
   "metadata": {},
   "source": [
    "## Runner Setup"
   ]
  },
  {
   "cell_type": "markdown",
   "id": "aa7d23a2-efc2-4e99-853d-5b506cb6ac2e",
   "metadata": {},
   "source": [
    "### Local Runner\n",
    "\n",
    "You don't need to do anything - this is the default runner that is used. It will attempt to use installations found on the system."
   ]
  },
  {
   "cell_type": "markdown",
   "id": "df4afb90-e41d-409d-b8dd-93e7f5bd14f9",
   "metadata": {
    "jp-MarkdownHeadingCollapsed": true
   },
   "source": [
    "### Docker Runner \n",
    "_**Skip this if using local installation or Singularity**_\n",
    "\n",
    "While downloading containers when using the Docker runner isn't strictly necessary (containers are pulled automatically by the runner), we will do so here before attempting \n",
    "any exercises to minimize having to wait for containers to be pulled later on."
   ]
  },
  {
   "cell_type": "code",
   "execution_count": null,
   "id": "5cae3f1b-0210-4856-a6d4-63a70d28eb6a",
   "metadata": {},
   "outputs": [],
   "source": [
    "%%bash\n",
    "\n",
    "docker pull antsx/ants:v2.5.3 -q\n",
    "# docker pull brainlife/fsl:6.0.4-patched2 -q # Uncomment to download large (7GB) container"
   ]
  },
  {
   "cell_type": "markdown",
   "id": "c5690247-5db7-41aa-b031-99ed739fd583",
   "metadata": {},
   "source": [
    "We will also set `niwrap` to use the DockerRunner!"
   ]
  },
  {
   "cell_type": "code",
   "execution_count": null,
   "id": "6eb69ca6-d637-48d0-a11a-b9f61073c297",
   "metadata": {},
   "outputs": [],
   "source": [
    "import niwrap\n",
    "\n",
    "niwrap.use_docker()"
   ]
  },
  {
   "cell_type": "markdown",
   "id": "671d82be-33e2-4df7-bcb4-a42f8c5069a7",
   "metadata": {
    "jp-MarkdownHeadingCollapsed": true
   },
   "source": [
    "### Singularity Runner \n",
    "_**Skip this if using local installation or Docker**_\n",
    "\n",
    "Downloading containers is required when using the Singularity runner. Additionally,\n",
    "we will need to tell our runner where we can find these containers after they have been\n",
    "downloaded!"
   ]
  },
  {
   "cell_type": "code",
   "execution_count": null,
   "id": "53ac3942-6191-451e-ae22-45d16bf84bdc",
   "metadata": {},
   "outputs": [],
   "source": [
    "%%bash\n",
    "\n",
    "mkdir -p ../containers\n",
    "singularity pull ../containers/fsl_6.0.4-patched2.sif docker://brainlife/fsl:6.0.4-patched2\n",
    "singularity pull ../containers/ants_v2.5.3.sif docker://antsx/ants:v2.5.3"
   ]
  },
  {
   "cell_type": "code",
   "execution_count": null,
   "id": "43209658-c8fd-486e-b6e6-9c287b73581d",
   "metadata": {},
   "outputs": [],
   "source": [
    "from pathlib import Path\n",
    "\n",
    "import niwrap\n",
    "\n",
    "niwrap.use_singularity(\n",
    "    images={\n",
    "        \"brainlife/fsl:6.0.4-patched2\": Path(\"../containers/fsl_6.0.4-patched2.sif\").resolve()\n",
    "    }\n",
    ")"
   ]
  },
  {
   "cell_type": "markdown",
   "id": "58443b6d-e1a6-4a87-8023-c1242777f8bb",
   "metadata": {},
   "source": [
    "## Exercises \n",
    "\n",
    "In the following exercises, we will use a combination of commonly used neuroimaging \n",
    "Python libraries and tools to perform a number of different processing tasks. Let's \n",
    "first take a look at what our data folder looks like!"
   ]
  },
  {
   "cell_type": "code",
   "execution_count": null,
   "id": "3e2a702f-7e65-499a-a8e2-70260778eb7c",
   "metadata": {},
   "outputs": [],
   "source": [
    "!tree `realpath ../data`"
   ]
  },
  {
   "cell_type": "markdown",
   "id": "39e58c6d-81fd-4a0b-9efe-703283bf4940",
   "metadata": {},
   "source": [
    "As you can see, we will be using some MNI template data in different spaces."
   ]
  },
  {
   "cell_type": "markdown",
   "id": "20535608-3271-4bc0-9deb-b68b92c88fe0",
   "metadata": {},
   "source": [
    "### Example\n",
    "\n",
    "Before we actually start doing things, lets take a look at some features of `niwrap`. \n",
    "All supported neuroimaging tools are available as a sub-module of `niwrap` - that is\n",
    "we can follow the `from niwrap import ...` syntax!\n",
    "\n",
    "Let's try and load in the `FSL` sub-module and figure out what commands are available! "
   ]
  },
  {
   "cell_type": "code",
   "execution_count": null,
   "id": "0201ee77-de71-4afd-9362-03ac3672365a",
   "metadata": {},
   "outputs": [],
   "source": [
    "from niwrap import fsl"
   ]
  },
  {
   "cell_type": "code",
   "execution_count": null,
   "id": "8c289d34-fc53-4432-95c1-b80e17a67b12",
   "metadata": {},
   "outputs": [],
   "source": [
    "# Autocomplete is available!\n",
    "fsl."
   ]
  },
  {
   "cell_type": "markdown",
   "id": "ee8dcf5b-fbd6-4b37-ac68-bb34da5a0671",
   "metadata": {},
   "source": [
    "What if we want to execute a command let `bet` for brain extraction, but can't remember\n",
    "the parameters?"
   ]
  },
  {
   "cell_type": "code",
   "execution_count": null,
   "id": "47417b93-67e8-4fa0-b8ab-1924a677b7b5",
   "metadata": {},
   "outputs": [],
   "source": [
    "# All of the docstrings have also been extracted and made available, along with type hints!\n",
    "help(fsl.bet)"
   ]
  },
  {
   "cell_type": "markdown",
   "id": "c5ead30e-eee9-45b6-aceb-cd1da0c0d625",
   "metadata": {},
   "source": [
    "In this example, we will use [FSL](https://fsl.fmrib.ox.ac.uk/fsl/docs/#/) to perform brain extraction on the T1w image in MNI152NLin2009cAsym space."
   ]
  },
  {
   "cell_type": "code",
   "execution_count": null,
   "id": "6625ee96-e078-40d6-9e32-337ba500c430",
   "metadata": {},
   "outputs": [],
   "source": [
    "# We'll first grab our file\n",
    "from pathlib import Path\n",
    "\n",
    "data_dir = Path(\"../data\").resolve()\n",
    "if not data_dir.exists():\n",
    "    raise FileNotFoundError(\"Data directory could not be found.\")\n",
    "\n",
    "mni2009c = data_dir / \"tpl-MNI152NLin2009cAsym_res-02_T1w.nii.gz\""
   ]
  },
  {
   "cell_type": "code",
   "execution_count": null,
   "id": "0fcc5a6a-7662-4363-9085-9b67b2488659",
   "metadata": {},
   "outputs": [],
   "source": [
    "# Start with importing fsl\n",
    "from niwrap import fsl\n",
    "\n",
    "'''\n",
    "bet ../data/tpl-MNI152NLin2009cAsym_res-02_T1w.nii.gz out -f 0.7\n",
    "'''"
   ]
  },
  {
   "cell_type": "markdown",
   "id": "b145a427-f601-441c-b71c-2d1c1d72a543",
   "metadata": {},
   "source": [
    "For some tools, a default output file name is already provided. You can also overwrite the output file name (we'll see this in a later example). Let's visualize what this looks like!"
   ]
  },
  {
   "cell_type": "code",
   "execution_count": null,
   "id": "6056ec9e-f4cb-4163-9ded-b7d33812d6d4",
   "metadata": {},
   "outputs": [],
   "source": [
    "from nilearn import plotting\n",
    "\n",
    "plotting.plot_anat(\n",
    "    ???,\n",
    "    title=\"Brain extracted T1w\"\n",
    ")\n",
    "plotting.show()"
   ]
  },
  {
   "cell_type": "markdown",
   "id": "6f7d1513-26d5-49eb-a329-92a71da95184",
   "metadata": {},
   "source": [
    "### Exercise 1\n",
    "\n",
    "For our first task, we will perform a slightly more complicated task using [ANTs](https://github.com/ANTsX/ANTs) to transform `tpl-MNI152NLin6Asym` to `MNI152NLin2009cAsym`. Again, all of the necessary data to do this is already available!"
   ]
  },
  {
   "cell_type": "code",
   "execution_count": null,
   "id": "ae716789-cf20-4cb4-9a1f-fb83f3169e67",
   "metadata": {},
   "outputs": [],
   "source": [
    "# We'll first get grab all our input variables\n",
    "from pathlib import Path\n",
    "\n",
    "data_dir = Path(\"../data\").resolve()\n",
    "if not data_dir.exists():\n",
    "    raise FileNotFoundError(\"Data directory could not be found.\")\n",
    "\n",
    "t1w = data_dir / \"tpl-MNI152NLin6Asym_res-02_T1w.nii.gz\"\n",
    "mask = data_dir / \"tpl-MNI152NLin6Asym_res-02_desc-brain_mask.nii.gz\"\n",
    "xfm = data_dir / \"tpl-MNI152NLin6Asym_from-MNI152NLin2009cAsym_mode-image_xfm.mat\"\n",
    "ref = data_dir / \"tpl-MNI152NLin2009cAsym_res-02_T1w.nii.gz\""
   ]
  },
  {
   "cell_type": "code",
   "execution_count": null,
   "id": "2ad4625d-6e60-48d2-b3de-c3f912d6cc82",
   "metadata": {},
   "outputs": [],
   "source": [
    "# Start by trying to import ants\n",
    "from niwrap import ants "
   ]
  },
  {
   "cell_type": "markdown",
   "id": "184ae060-e695-451c-8d59-d7d7ef1a6f74",
   "metadata": {},
   "source": [
    "We know we need the command `antsApplyTransforms`, but we don't know what equivalent call\n",
    "is in `niwrap` nor the parameters that need to provided."
   ]
  },
  {
   "cell_type": "code",
   "execution_count": null,
   "id": "4ee03d83-7fe0-4712-8127-1e1d17294908",
   "metadata": {},
   "outputs": [],
   "source": [
    "# Try the autocomplete feature, as well as printing out the help\n",
    "help(ants.ants_apply_transforms)"
   ]
  },
  {
   "cell_type": "markdown",
   "id": "413f9983-2f7e-4dae-aae3-b1c0498d522c",
   "metadata": {},
   "source": [
    "Let's start by applying our transformation to the T1w."
   ]
  },
  {
   "cell_type": "code",
   "execution_count": null,
   "id": "20615349-1314-4cf1-9eb6-b46320550457",
   "metadata": {},
   "outputs": [],
   "source": [
    "# Note this uses what is known as 'sub-commands' in niwrap\n",
    "'''\n",
    "antsApplyTransforms \\\n",
    "  --dimensionality 3 \\\n",
    "  --input-image-type 0 \\\n",
    "  --input ../data/tpl-MNI152NLin6Asym_res-02_T1w.nii.gz \\\n",
    "  --reference-image ../data/tpl-MNI152NLin2009cAsym_res-02_T1w.nii.gz \\\n",
    "  --output tpl-MNI152NLin6Asym_space-MNI152NLin2009cAsym_res-02_T1w.nii.gz \\\n",
    "  --interpolation Linear \\\n",
    "  --transform ../data/tpl-MNI152NLin6Asym_from-MNI152NLin2009cAsym_mode-image_xfm.mat\n",
    "'''\n",
    "t1w_mni2009c = ants.ants_apply_transforms(\n",
    "    input_image=t1w,\n",
    "    reference_image=ref,\n",
    "    output=ants.ants_apply_transforms_warped_output_params(\"tpl-MNI152NLin6Asym_space-MNI152NLin2009cAsym_res-02_T1w.nii.gz\"),\n",
    "    transform=[ants.ants_apply_transforms_transform_file_name_params(xfm)],\n",
    "    interpolation=ants.ants_apply_transforms_linear_params(),\n",
    "    dimensionality=3,\n",
    "    input_image_type=0,\n",
    ")"
   ]
  },
  {
   "cell_type": "markdown",
   "id": "d436167a-72dd-4386-a64d-8674658975c2",
   "metadata": {},
   "source": [
    "Try applying the transformation to the mask as well!"
   ]
  },
  {
   "cell_type": "code",
   "execution_count": null,
   "id": "06d865b5-f9c8-49f8-9d1d-9c9984dc19b5",
   "metadata": {},
   "outputs": [],
   "source": [
    "'''\n",
    "antsApplyTransforms \\\n",
    "  --dimensionality 3 \\\n",
    "  --input-image-type 0 \\\n",
    "  --input ../data/tpl-MNI152NLin6Asym_res-02_desc-brain_mask.nii.gz \\\n",
    "  --reference-image ../data/tpl-MNI152NLin2009cAsym_res-02_T1w.nii.gz \\\n",
    "  --output tpl-MNI152NLin6Asym_space-MNI152NLin2009cAsym_res-02_T1w.nii.gz \\\n",
    "  --interpolation NearestNeighbor \\\n",
    "  --transform ../data/tpl-MNI152NLin6Asym_from-MNI152NLin2009cAsym_mode-image_xfm.mat\n",
    "'''"
   ]
  },
  {
   "cell_type": "markdown",
   "id": "f73e0839-83dd-43ad-8523-9378496b55dc",
   "metadata": {},
   "source": [
    "Let's take a look at the outputs!\n",
    "\n",
    "<!-- Look at folder and at variables -->"
   ]
  },
  {
   "cell_type": "code",
   "execution_count": null,
   "id": "d669a792-6096-4fc0-9aee-f4f2121a2ade",
   "metadata": {},
   "outputs": [],
   "source": [
    "print(f\"'t1w_mni2009c': {t1w_mni2009c.output}\\n\")\n",
    "print(f\"'mask_mni2009c': {???}\")"
   ]
  },
  {
   "cell_type": "markdown",
   "id": "47a2513e-94e0-4984-9b83-997010185ff1",
   "metadata": {},
   "source": [
    "We'll also try to plot this visually!"
   ]
  },
  {
   "cell_type": "code",
   "execution_count": null,
   "id": "807a8cdd-ccbe-48a4-a52f-81048922c300",
   "metadata": {},
   "outputs": [],
   "source": [
    "from nilearn import plotting\n",
    "\n",
    "plotting.plot_roi(\n",
    "    ???,\n",
    "    bg_img=???\n",
    "    alpha=0.3,\n",
    "    cmap='autumn',\n",
    "    title=\"Mask over T1w in MNI152NLin2009cAsym space\"\n",
    ")\n",
    "plotting.show()"
   ]
  },
  {
   "cell_type": "markdown",
   "id": "25706722-8f37-482f-b19a-d94dfb4f7d9d",
   "metadata": {},
   "source": [
    "Just to double check, lets overlay the mask on the original T1w image to make sure the \n",
    "transformation actually occurred!"
   ]
  },
  {
   "cell_type": "code",
   "execution_count": null,
   "id": "96c54ea1-6173-4113-81cd-2d2700f344a3",
   "metadata": {},
   "outputs": [],
   "source": [
    "plotting.plot_roi(\n",
    "    ???\n",
    "    bg_img=???,\n",
    "    alpha=0.3,\n",
    "    cmap='autumn',\n",
    "    title=\"Transformed mask over original T1w\"\n",
    ")\n",
    "plotting.show()"
   ]
  },
  {
   "cell_type": "markdown",
   "id": "31d096d4-6586-4f08-8ef5-4e131b630893",
   "metadata": {},
   "source": [
    "The differences are subtle, but yes, a transformation did indeed happen!"
   ]
  },
  {
   "cell_type": "markdown",
   "id": "3c0b78ca-cb23-4b95-ae01-382854fadc3c",
   "metadata": {},
   "source": [
    "### Exercise 3\n",
    "\n",
    "While there are many brain extraction tools (that we could again use to highlight \n",
    "`niwrap`), lets do something different. Instead of using an existing tool, lets use the \n",
    "data we transformed from [Example 2](#Example-2) and apply the mask. We'll do all this\n",
    "exclusively using Python libraries!"
   ]
  },
  {
   "cell_type": "code",
   "execution_count": null,
   "id": "6ed1d0de-dd74-46b0-9c2d-b397a49dff33",
   "metadata": {},
   "outputs": [],
   "source": [
    "import nibabel as nib \n",
    "import numpy as np"
   ]
  },
  {
   "cell_type": "code",
   "execution_count": null,
   "id": "b0466c18-0b22-429d-8f5b-308f516c4be4",
   "metadata": {},
   "outputs": [],
   "source": [
    "t1w_nii = nib.load(???)\n",
    "mask_nii = nib.load(???)\n",
    "\n",
    "plotting.plot_anat(\n",
    "    ???,\n",
    "    title=\"Brain extracted T1w\"\n",
    ")\n",
    "plotting.show()"
   ]
  },
  {
   "cell_type": "markdown",
   "id": "08a96a49-ad4f-4458-a76f-ee14dcca82e1",
   "metadata": {},
   "source": [
    "While we treated these tasks as separate exercises, you could combine\n",
    "exercises 2 and 3 together to create a short pipeline, performing\n",
    "all of your tasks within Python!"
   ]
  },
  {
   "cell_type": "markdown",
   "id": "6f46817c-cf4e-496a-be55-c06ec66958c7",
   "metadata": {},
   "source": [
    "### Exercise 4\n",
    "\n",
    "As an additional exercise / challenge, try to play around with `niwrap` to create your own pipeline or use it on your own data!"
   ]
  }
 ],
 "metadata": {
  "kernelspec": {
   "display_name": "Python 3 (ipykernel)",
   "language": "python",
   "name": "python3"
  },
  "language_info": {
   "codemirror_mode": {
    "name": "ipython",
    "version": 3
   },
   "file_extension": ".py",
   "mimetype": "text/x-python",
   "name": "python",
   "nbconvert_exporter": "python",
   "pygments_lexer": "ipython3",
   "version": "3.13.2"
  }
 },
 "nbformat": 4,
 "nbformat_minor": 5
}
